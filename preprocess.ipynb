{
 "cells": [
  {
   "cell_type": "code",
   "execution_count": 6,
   "metadata": {
    "collapsed": false
   },
   "outputs": [
    {
     "name": "stdout",
     "output_type": "stream",
     "text": [
      "150\n"
     ]
    }
   ],
   "source": [
    "import os \n",
    "import re\n",
    "import numpy as np\n",
    "f_dirs = []\n",
    "for root, dirs, files in os.walk(\"/home/ruoxu/workspace/data/public/aerospace_corpus/\", topdown=False):\n",
    "    for name in files:\n",
    "        f_dirs.append(os.path.join(root, name))\n",
    "print len(f_dirs)"
   ]
  },
  {
   "cell_type": "code",
   "execution_count": 7,
   "metadata": {
    "collapsed": true
   },
   "outputs": [],
   "source": [
    "import pandas as pd\n",
    "import textract\n",
    "import subprocess\n",
    "\n",
    "process = subprocess.Popen(['java','-jar','/home/ruoxu/opt/tika-app-1.10.jar','-t',\n",
    "                           f_dirs[0]], stdout=subprocess.PIPE)"
   ]
  },
  {
   "cell_type": "code",
   "execution_count": 8,
   "metadata": {
    "collapsed": true
   },
   "outputs": [],
   "source": [
    "def get_info(d):\n",
    "    key = d.split('/')[7]\n",
    "    if d.split('.')[-1] == 'ppt':\n",
    "        process = subprocess.Popen(['java','-jar','/home/ruoxu/opt/tika-app-1.10.jar','-t',\n",
    "                                    d], stdout=subprocess.PIPE)\n",
    "        print 'processing by tika'\n",
    "        text = process.stdout.read()\n",
    "    else:\n",
    "        print 'processing by textract'\n",
    "        text = textract.process(d)\n",
    "    mtime = pd.to_datetime(os.stat(d).st_mtime,unit='s')\n",
    "    return np.array([d,key,text,mtime])"
   ]
  },
  {
   "cell_type": "code",
   "execution_count": 9,
   "metadata": {
    "collapsed": true
   },
   "outputs": [],
   "source": [
    "def regex(s):\n",
    "    s = re.split(r'(?<!\\w\\.\\w.)(?<![A-Z][a-z]\\.)(?<=\\.|\\?)\\s',s)\n",
    "    reg = re.compile(r'\\b[a-z]+\\b')\n",
    "    return [reg.findall(w) for w in s]"
   ]
  },
  {
   "cell_type": "code",
   "execution_count": 10,
   "metadata": {
    "collapsed": false,
    "scrolled": true
   },
   "outputs": [
    {
     "name": "stdout",
     "output_type": "stream",
     "text": [
      "processing by textract\n",
      "processing by textract\n",
      "processing by textract\n",
      "processing by textract\n",
      "processing by textract\n",
      "processing by textract\n",
      "processing by textract\n",
      "processing by textract\n",
      "processing by textract\n",
      "processing by textract\n",
      "processing by textract\n",
      "processing by textract\n",
      "processing by textract\n",
      "processing by textract\n",
      "processing by textract\n",
      "processing by textract\n",
      "processing by textract\n",
      "processing by textract\n",
      "processing by textract\n",
      "processing by textract\n",
      "processing by textract\n",
      "processing by textract\n",
      "processing by textract\n",
      "processing by textract\n",
      "processing by textract\n",
      "processing by textract\n",
      "processing by textract\n",
      "processing by textract\n",
      "processing by textract\n",
      "processing by textract\n",
      "processing by textract\n",
      "processing by textract\n",
      "processing by textract\n",
      "processing by textract\n",
      "processing by textract\n",
      "processing by textract\n",
      "processing by textract\n",
      "processing by textract\n",
      "processing by textract\n",
      "processing by textract\n",
      "processing by textract\n",
      "processing by textract\n",
      "processing by textract\n",
      "processing by textract\n",
      "processing by textract\n",
      "processing by textract\n",
      "processing by textract\n",
      "processing by textract\n",
      "processing by textract\n",
      "processing by textract\n",
      "processing by textract\n",
      "processing by textract\n",
      "processing by textract\n",
      "processing by textract\n",
      "processing by textract\n",
      "processing by textract\n",
      "processing by textract\n",
      "processing by textract\n",
      "processing by textract\n",
      "processing by textract\n",
      "processing by textract\n",
      "processing by textract\n",
      "processing by textract\n",
      "processing by textract\n",
      "processing by textract\n",
      "processing by textract\n",
      "processing by textract\n",
      "processing by textract\n",
      "processing by textract\n",
      "processing by textract\n",
      "processing by textract\n",
      "processing by textract\n",
      "processing by textract\n",
      "processing by textract\n",
      "processing by textract\n",
      "processing by textract\n",
      "processing by textract\n",
      "processing by textract\n",
      "processing by textract\n",
      "processing by textract\n",
      "processing by textract\n",
      "processing by textract\n",
      "processing by textract\n",
      "processing by textract\n",
      "processing by textract\n",
      "processing by textract\n",
      "processing by textract\n",
      "processing by textract\n",
      "processing by textract\n",
      "processing by textract\n",
      "processing by textract\n",
      "processing by textract\n",
      "processing by textract\n",
      "processing by textract\n",
      "processing by textract\n",
      "processing by textract\n",
      "processing by textract\n",
      "processing by textract\n",
      "processing by textract\n",
      "processing by textract\n",
      "processing by textract\n",
      "processing by textract\n",
      "processing by textract\n",
      "processing by textract\n",
      "processing by textract\n",
      "processing by textract\n",
      "processing by textract\n",
      "processing by textract\n",
      "processing by textract\n",
      "processing by textract\n",
      "processing by textract\n",
      "processing by textract\n",
      "processing by textract\n",
      "processing by textract\n",
      "processing by textract\n",
      "processing by textract\n",
      "processing by textract\n",
      "processing by textract\n",
      "processing by textract\n",
      "processing by textract\n",
      "processing by textract\n",
      "processing by textract\n",
      "processing by textract\n",
      "processing by textract\n",
      "processing by textract\n",
      "processing by textract\n",
      "processing by textract\n",
      "processing by textract\n",
      "processing by textract\n",
      "processing by textract\n",
      "processing by textract\n",
      "processing by textract\n",
      "processing by textract\n",
      "processing by textract\n",
      "processing by textract\n",
      "processing by textract\n",
      "processing by textract\n",
      "processing by textract\n",
      "processing by textract\n",
      "processing by textract\n",
      "processing by textract\n",
      "processing by textract\n",
      "processing by textract\n",
      "processing by textract\n",
      "processing by textract\n",
      "processing by textract\n",
      "processing by textract\n",
      "processing by textract\n",
      "processing by textract\n",
      "processing by textract\n"
     ]
    }
   ],
   "source": [
    "sentences = []\n",
    "for f in f_dirs:\n",
    "    sentences += regex(get_info(f)[2])"
   ]
  },
  {
   "cell_type": "code",
   "execution_count": 31,
   "metadata": {
    "collapsed": false,
    "scrolled": true
   },
   "outputs": [
    {
     "data": {
      "text/plain": [
       "94009"
      ]
     },
     "execution_count": 31,
     "metadata": {},
     "output_type": "execute_result"
    }
   ],
   "source": [
    "len(sentences)"
   ]
  },
  {
   "cell_type": "code",
   "execution_count": 12,
   "metadata": {
    "collapsed": false
   },
   "outputs": [],
   "source": [
    "with open(\"data/aerospace_corpus.txt\",\"w\") as f:\n",
    "    for s in sentences:\n",
    "        f.write(' '+' '.join(s) + ' ')"
   ]
  }
 ],
 "metadata": {
  "kernelspec": {
   "display_name": "Python 2",
   "language": "python",
   "name": "python2"
  },
  "language_info": {
   "codemirror_mode": {
    "name": "ipython",
    "version": 2
   },
   "file_extension": ".py",
   "mimetype": "text/x-python",
   "name": "python",
   "nbconvert_exporter": "python",
   "pygments_lexer": "ipython2",
   "version": "2.7.6"
  }
 },
 "nbformat": 4,
 "nbformat_minor": 0
}
